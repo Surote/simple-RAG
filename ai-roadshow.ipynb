{
 "cells": [
  {
   "cell_type": "code",
   "execution_count": null,
   "metadata": {},
   "outputs": [],
   "source": [
    "\n",
    "import os\n",
    "from dotenv import load_dotenv\n",
    "from bs4 import SoupStrainer\n",
    "from datasets import load_dataset\n",
    "from langchain_openai import ChatOpenAI\n",
    "from langchain_huggingface import HuggingFaceEmbeddings\n",
    "from langchain_community.document_loaders import WebBaseLoader\n",
    "from langchain_text_splitters import RecursiveCharacterTextSplitter\n",
    "from langchain_chroma import Chroma\n",
    "from langchain.prompts import ChatPromptTemplate\n",
    "from langchain_core.output_parsers import StrOutputParser\n",
    "from langchain_core.runnables import RunnablePassthrough\n",
    "\n",
    "# Load environment variables from a .env file\n",
    "load_dotenv()\n",
    "\n",
    "# Initialize the chat model with specific parameters\n",
    "chat_model = ChatOpenAI(\n",
    "    model=\"gpt-4o-mini\",\n",
    "    temperature=0.7,\n",
    "    max_retries=2,\n",
    ")\n",
    "\n",
    "# Set up the embeddings model using HuggingFace\n",
    "embeddings = HuggingFaceEmbeddings(model_name=\"sentence-transformers/all-MiniLM-L12-v2\")\n",
    "\n",
    "# Load a dataset for additional use\n",
    "dataset = load_dataset(\"flax-sentence-embeddings/stackexchange_math_jsonl\", \"title_answer\")\n",
    "\n",
    "# Create a loader to fetch content from a specified URL\n",
    "web_loader = WebBaseLoader(\n",
    "    web_paths=(\"https://www.couchbase.com/blog/what-is-vector-search/\",),\n",
    "    bs_kwargs=dict(parse_only=SoupStrainer())  # Parse specific parts of the HTML\n",
    ")\n",
    "\n",
    "# Load documents from the web\n",
    "documents = web_loader.load()\n",
    "\n",
    "\n",
    "# Initialize a text splitter to break documents into manageable chunks\n",
    "text_splitter = RecursiveCharacterTextSplitter(chunk_size=1024, chunk_overlap=100)\n",
    "\n",
    "# Split documents into chunks\n",
    "document_chunks = text_splitter.split_documents(documents)\n",
    "print(document_chunks)\n",
    "# Create a vector store for document retrieval\n",
    "vector_store = Chroma.from_documents(documents=document_chunks, embedding=embeddings, persist_directory=\"./chroma_langchain_db\")\n",
    "\n",
    "# Set up a retriever to get relevant document snippets\n",
    "document_retriever = vector_store.as_retriever(k=3)\n",
    "\n",
    "# Define a template for prompting the chat model\n",
    "template = \"\"\"Answer the question and explain the answer is coming from context or not and give me the answer you know:\n",
    "{context}\n",
    "\n",
    "Question: {messages}\n",
    "\"\"\"\n",
    "\n",
    "# Create a prompt using the template\n",
    "chat_prompt = ChatPromptTemplate.from_template(template)\n",
    "\n",
    "# Helper function to format document content\n",
    "def format_documents(docs):\n",
    "    return \"\\n\\n\".join(doc.page_content for doc in docs)\n",
    "\n",
    "# Define a chain of processes for RAG (Retrieval-Augmented Generation)\n",
    "rag_chain = (\n",
    "    {\"context\": document_retriever | format_documents, \"messages\": RunnablePassthrough()}\n",
    "    | chat_prompt\n",
    "    | chat_model\n",
    "    | StrOutputParser()\n",
    ")\n",
    "\n",
    "# Continuously prompt the user for input and process it through the RAG chain\n",
    "#while True:\n",
    " #   user_input = input(\">>\")\n",
    "  #  print(rag_chain.invoke(user_input))\n"
   ]
  },
  {
   "cell_type": "code",
   "execution_count": null,
   "metadata": {},
   "outputs": [],
   "source": [
    "rag_chain.invoke(\"what Surote write on Medium?\")"
   ]
  },
  {
   "cell_type": "code",
   "execution_count": null,
   "metadata": {},
   "outputs": [],
   "source": [
    "rag_chain.invoke(\"what is Moo Deng?\")"
   ]
  },
  {
   "cell_type": "code",
   "execution_count": null,
   "metadata": {},
   "outputs": [],
   "source": [
    "# load content from : https://edition.cnn.com/2024/09/14/travel/pigmy-hippo-thailand-latest-online-sensation-intl-hnk/index.html"
   ]
  },
  {
   "cell_type": "code",
   "execution_count": null,
   "metadata": {},
   "outputs": [],
   "source": [
    "rag_chain.invoke(\"who is Surote?\")"
   ]
  },
  {
   "cell_type": "code",
   "execution_count": null,
   "metadata": {},
   "outputs": [],
   "source": [
    "rag_chain.invoke(\"what is the Earth\")"
   ]
  },
  {
   "cell_type": "code",
   "execution_count": null,
   "metadata": {},
   "outputs": [],
   "source": []
  }
 ],
 "metadata": {
  "kernelspec": {
   "display_name": "ai-env",
   "language": "python",
   "name": "python3"
  },
  "language_info": {
   "codemirror_mode": {
    "name": "ipython",
    "version": 3
   },
   "file_extension": ".py",
   "mimetype": "text/x-python",
   "name": "python",
   "nbconvert_exporter": "python",
   "pygments_lexer": "ipython3",
   "version": "3.13.3"
  }
 },
 "nbformat": 4,
 "nbformat_minor": 2
}
